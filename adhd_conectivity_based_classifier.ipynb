{
 "cells": [
  {
   "cell_type": "code",
   "execution_count": null,
   "metadata": {},
   "outputs": [],
   "source": [
    "import numpy as np\n",
    "import pandas as pd\n",
    "import matplotlib.pyplot as plt\n",
    "import seaborn as sns\n",
    "from scipy.signal import coherence\n",
    "from sklearn.model_selection import train_test_split\n",
    "from sklearn.svm import SVC\n",
    "from sklearn.ensemble import RandomForestClassifier\n",
    "from sklearn.preprocessing import MinMaxScaler\n",
    "from sklearn.feature_selection import RFE\n",
    "from sklearn.metrics import classification_report, accuracy_score\n",
    "from scipy.signal import hilbert\n",
    "from sklearn.model_selection import GridSearchCV\n",
    "from imblearn.over_sampling import SMOTE"
   ]
  },
  {
   "cell_type": "markdown",
   "metadata": {},
   "source": [
    "### Step 1: Load and Inspect the Dataset ###\n",
    "# Load EEG dataset"
   ]
  },
  {
   "cell_type": "code",
   "execution_count": 42,
   "metadata": {},
   "outputs": [
    {
     "name": "stdout",
     "output_type": "stream",
     "text": [
      "     Fp1    Fp2     F3     F4     C3     C4     P3     P4     O1     O2  ...  \\\n",
      "0  261.0  402.0   16.0  261.0  126.0  384.0  126.0  236.0   52.0  236.0  ...   \n",
      "1  121.0  191.0  -94.0   85.0   16.0  200.0  126.0   52.0  347.0  273.0  ...   \n",
      "2  -55.0   85.0 -204.0   15.0  -57.0  200.0   52.0  126.0  236.0  200.0  ...   \n",
      "3  191.0   85.0   52.0   50.0   89.0  236.0  163.0   89.0   89.0   89.0  ...   \n",
      "4  -55.0 -125.0 -204.0 -160.0 -204.0   16.0 -241.0 -241.0   89.0   16.0  ...   \n",
      "\n",
      "      F8     T7     T8     P7     P8     Fz     Cz     Pz  Class    ID  \n",
      "0   16.0  200.0  494.0  126.0  236.0  121.0  367.0  121.0   ADHD  v10p  \n",
      "1  -57.0  126.0  347.0   52.0   52.0   15.0  121.0  -19.0   ADHD  v10p  \n",
      "2  -94.0  126.0  420.0   52.0  126.0  -55.0  261.0   85.0   ADHD  v10p  \n",
      "3  -57.0  236.0  420.0  126.0  126.0   15.0   85.0  -55.0   ADHD  v10p  \n",
      "4 -131.0   89.0  310.0  -57.0   52.0  -55.0   15.0 -336.0   ADHD  v10p  \n",
      "\n",
      "[5 rows x 21 columns]\n"
     ]
    }
   ],
   "source": [
    "file_path = \"adhdata.csv\"  # Replace with your actual filename\n",
    "df = pd.read_csv(file_path)\n",
    "\n",
    "# Display first few rows\n",
    "print(df.head())\n",
    "\n",
    "# Extract EEG channel names (excluding \"Class\" and \"ID\")\n",
    "eeg_channels = [\"Fp1\", \"Fp2\", \"F3\", \"F4\", \"C3\", \"C4\", \"P3\", \"P4\", \"O1\", \"O2\",\n",
    "                \"F7\", \"F8\", \"T7\", \"T8\", \"P7\", \"P8\", \"Fz\", \"Cz\", \"Pz\"]\n",
    "\n",
    "# Ensure EEG data is numeric\n",
    "df[eeg_channels] = df[eeg_channels].apply(pd.to_numeric, errors='coerce')\n",
    "\n",
    "# Extract target labels\n",
    "y = df[\"Class\"]"
   ]
  },
  {
   "cell_type": "markdown",
   "metadata": {},
   "source": [
    "### Step 2: Group by Patient ID ###\n",
    "# We take the mean EEG values per patient ID to ensure a fair representation"
   ]
  },
  {
   "cell_type": "code",
   "execution_count": 43,
   "metadata": {},
   "outputs": [
    {
     "name": "stdout",
     "output_type": "stream",
     "text": [
      "Dataset after grouping by patient ID:\n",
      "     ID         Fp1         Fp2          F3          F4          C3  \\\n",
      "0  v107  135.460746  135.352784  141.566182  135.282914  141.524199   \n",
      "1  v108  130.880374  131.096079  136.974824  131.264690  137.227321   \n",
      "2  v109  138.053914  137.706931  144.215532  137.624034  143.541511   \n",
      "3  v10p  146.172399  146.371924  151.967072  145.521323  151.673378   \n",
      "4  v110  140.691885  141.686023  147.186658  141.375793  147.348964   \n",
      "\n",
      "           C4          P3          P4          O1  ...          F7  \\\n",
      "0  141.171820  141.467465  140.762100  140.016268  ...  139.922098   \n",
      "1  137.039998  137.365184  136.866446  137.415957  ...  136.926574   \n",
      "2  143.495512  143.936549  143.207430  142.981488  ...  142.723386   \n",
      "3  152.115143  151.470498  151.591723  151.499021  ...  151.997973   \n",
      "4  147.352891  147.290652  146.799686  145.816605  ...  144.849840   \n",
      "\n",
      "           F8          T7          T8          P7          P8          Fz  \\\n",
      "0  138.665353  139.504547  138.341518  139.078256  138.168233  132.141861   \n",
      "1  136.772101  136.732156  136.492221  137.188216  136.522811  130.327972   \n",
      "2  141.700947  141.942969  141.865370  141.974944  142.041012  137.282162   \n",
      "3  151.203300  151.600811  151.712738  151.189318  151.151706  145.275028   \n",
      "4  142.532479  144.233247  141.675449  143.555260  140.935827  134.177231   \n",
      "\n",
      "           Cz          Pz    Class  \n",
      "0  132.698494  132.415429  Control  \n",
      "1  130.177599  130.571218  Control  \n",
      "2  137.423647  135.857018  Control  \n",
      "3  145.363255  144.913031     ADHD  \n",
      "4  135.022781  133.703728  Control  \n",
      "\n",
      "[5 rows x 21 columns]\n"
     ]
    }
   ],
   "source": [
    "df_grouped = df.groupby(\"ID\")[eeg_channels].mean().reset_index()\n",
    "\n",
    "# Ensure \"Class\" is added back after grouping\n",
    "df_grouped = df_grouped.merge(df[[\"ID\", \"Class\"]].drop_duplicates(), on=\"ID\")\n",
    "\n",
    "# Display grouped data\n",
    "print(\"Dataset after grouping by patient ID:\")\n",
    "print(df_grouped.head())"
   ]
  },
  {
   "cell_type": "markdown",
   "metadata": {},
   "source": [
    "### Step 3: Compute EEG Connectivity Measures ###"
   ]
  },
  {
   "cell_type": "code",
   "execution_count": 44,
   "metadata": {},
   "outputs": [],
   "source": [
    "def compute_connectivity(eeg_data, fs=256):\n",
    "    \"\"\"Computes coherence between key EEG channel pairs while handling NaNs.\"\"\"\n",
    "    connectivity_features = []\n",
    "    \n",
    "    # Define key EEG channel pairs for connectivity analysis\n",
    "    channel_pairs = [(\"Fp1\", \"Fp2\"), (\"C3\", \"C4\"), (\"P3\", \"P4\"), (\"O1\", \"O2\"), (\"F7\", \"F8\")]\n",
    "\n",
    "    for ch1, ch2 in channel_pairs:\n",
    "        if ch1 in eeg_data and ch2 in eeg_data:\n",
    "            signal1, signal2 = eeg_data[ch1], eeg_data[ch2]\n",
    "\n",
    "            # Handle cases where signals are constant or empty\n",
    "            if np.all(signal1 == signal1[0]) or np.all(signal2 == signal2[0]):\n",
    "                connectivity_features.append(0)  # Default to 0 for invalid coherence\n",
    "                continue\n",
    "\n",
    "            # Compute coherence safely\n",
    "            f, coh = coherence(signal1, signal2, fs=fs, nperseg=fs*2)\n",
    "            mean_coh = np.nanmean(coh[(f >= 4) & (f < 30)])  # Compute mean safely\n",
    "            \n",
    "            # Ensure no NaNs are added\n",
    "            connectivity_features.append(0 if np.isnan(mean_coh) else mean_coh)\n",
    "        else:\n",
    "            connectivity_features.append(0)  # Handle missing channels\n",
    "    \n",
    "    return connectivity_features\n",
    "\n",
    "\n",
    "\n",
    "# Compute connectivity features for each patient\n",
    "features = []\n",
    "for _, row in df_grouped.iterrows():\n",
    "    eeg_data = {ch: np.array([row[ch]]) for ch in eeg_channels}  # Convert each column to a NumPy array\n",
    "    feature_vector = compute_connectivity(eeg_data)  # Pass dictionary of EEG signals\n",
    "    features.append(feature_vector)\n",
    "\n",
    "# Convert to NumPy array\n",
    "X = np.array(features)\n"
   ]
  },
  {
   "cell_type": "markdown",
   "metadata": {},
   "source": [
    "### Step 4: Normalize Features and Train-Test Split ###"
   ]
  },
  {
   "cell_type": "markdown",
   "metadata": {},
   "source": [
    "### Checking for Missing Values and Pre-Processing those rows ###"
   ]
  },
  {
   "cell_type": "code",
   "execution_count": 45,
   "metadata": {},
   "outputs": [],
   "source": [
    "# Normalize feature values between 0 and 1\n",
    "\n",
    "scaler = MinMaxScaler()\n",
    "\n",
    "\n",
    "# Replace NaNs with the mean of the column (better than dropping rows)\n",
    "X = np.nan_to_num(X, nan=np.nanmean(X))  \n",
    "# Check if there are NaNs in the feature matrix X\n",
    "X = np.nan_to_num(X, nan=np.nanmean(X, axis=0))\n",
    "\n",
    "X_scaled = scaler.fit_transform(X)\n",
    "\n",
    "X_train, X_test, y_train, y_test = train_test_split(X_scaled, df_grouped[\"Class\"], test_size=0.2, random_state=42, stratify=df_grouped[\"Class\"])"
   ]
  },
  {
   "cell_type": "markdown",
   "metadata": {},
   "source": [
    "### Step 5: Feature Selection with Recursive Feature Elimination (RFE) ###"
   ]
  },
  {
   "cell_type": "code",
   "execution_count": 46,
   "metadata": {},
   "outputs": [],
   "source": [
    "svm = SVC(kernel=\"linear\", C=1)\n",
    "rfe = RFE(svm, n_features_to_select=3)  # Select top 3 connectivity features\n",
    "X_train_rfe = rfe.fit_transform(X_train, y_train)\n",
    "X_test_rfe = rfe.transform(X_test)"
   ]
  },
  {
   "cell_type": "markdown",
   "metadata": {},
   "source": [
    "### Step 6: Train SVM Classifier ###"
   ]
  },
  {
   "cell_type": "code",
   "execution_count": 47,
   "metadata": {},
   "outputs": [],
   "source": [
    "svm.fit(X_train_rfe, y_train)\n",
    "y_pred_svm = svm.predict(X_test_rfe)"
   ]
  },
  {
   "cell_type": "markdown",
   "metadata": {},
   "source": [
    "### Step 7: Evaluate SVM Performance ###\n"
   ]
  },
  {
   "cell_type": "code",
   "execution_count": 48,
   "metadata": {},
   "outputs": [
    {
     "name": "stdout",
     "output_type": "stream",
     "text": [
      "Classification Report (SVM - Connectivity Features):\n",
      "              precision    recall  f1-score   support\n",
      "\n",
      "        ADHD       0.00      0.00      0.00        13\n",
      "     Control       0.48      1.00      0.65        12\n",
      "\n",
      "    accuracy                           0.48        25\n",
      "   macro avg       0.24      0.50      0.32        25\n",
      "weighted avg       0.23      0.48      0.31        25\n",
      "\n"
     ]
    },
    {
     "name": "stderr",
     "output_type": "stream",
     "text": [
      "/Library/Frameworks/Python.framework/Versions/3.11/lib/python3.11/site-packages/sklearn/metrics/_classification.py:1531: UndefinedMetricWarning: Precision is ill-defined and being set to 0.0 in labels with no predicted samples. Use `zero_division` parameter to control this behavior.\n",
      "  _warn_prf(average, modifier, f\"{metric.capitalize()} is\", len(result))\n",
      "/Library/Frameworks/Python.framework/Versions/3.11/lib/python3.11/site-packages/sklearn/metrics/_classification.py:1531: UndefinedMetricWarning: Precision is ill-defined and being set to 0.0 in labels with no predicted samples. Use `zero_division` parameter to control this behavior.\n",
      "  _warn_prf(average, modifier, f\"{metric.capitalize()} is\", len(result))\n",
      "/Library/Frameworks/Python.framework/Versions/3.11/lib/python3.11/site-packages/sklearn/metrics/_classification.py:1531: UndefinedMetricWarning: Precision is ill-defined and being set to 0.0 in labels with no predicted samples. Use `zero_division` parameter to control this behavior.\n",
      "  _warn_prf(average, modifier, f\"{metric.capitalize()} is\", len(result))\n"
     ]
    }
   ],
   "source": [
    "print(\"Classification Report (SVM - Connectivity Features):\")\n",
    "print(classification_report(y_test, y_pred_svm))\n"
   ]
  },
  {
   "cell_type": "markdown",
   "metadata": {},
   "source": [
    "### Step 8: Train Random Forest Classifier ###"
   ]
  },
  {
   "cell_type": "code",
   "execution_count": 49,
   "metadata": {},
   "outputs": [
    {
     "name": "stdout",
     "output_type": "stream",
     "text": [
      "\n",
      "Classification Report (Random Forest - Connectivity Features):\n",
      "              precision    recall  f1-score   support\n",
      "\n",
      "        ADHD       0.52      1.00      0.68        13\n",
      "     Control       0.00      0.00      0.00        12\n",
      "\n",
      "    accuracy                           0.52        25\n",
      "   macro avg       0.26      0.50      0.34        25\n",
      "weighted avg       0.27      0.52      0.36        25\n",
      "\n"
     ]
    },
    {
     "name": "stderr",
     "output_type": "stream",
     "text": [
      "/Library/Frameworks/Python.framework/Versions/3.11/lib/python3.11/site-packages/sklearn/metrics/_classification.py:1531: UndefinedMetricWarning: Precision is ill-defined and being set to 0.0 in labels with no predicted samples. Use `zero_division` parameter to control this behavior.\n",
      "  _warn_prf(average, modifier, f\"{metric.capitalize()} is\", len(result))\n",
      "/Library/Frameworks/Python.framework/Versions/3.11/lib/python3.11/site-packages/sklearn/metrics/_classification.py:1531: UndefinedMetricWarning: Precision is ill-defined and being set to 0.0 in labels with no predicted samples. Use `zero_division` parameter to control this behavior.\n",
      "  _warn_prf(average, modifier, f\"{metric.capitalize()} is\", len(result))\n",
      "/Library/Frameworks/Python.framework/Versions/3.11/lib/python3.11/site-packages/sklearn/metrics/_classification.py:1531: UndefinedMetricWarning: Precision is ill-defined and being set to 0.0 in labels with no predicted samples. Use `zero_division` parameter to control this behavior.\n",
      "  _warn_prf(average, modifier, f\"{metric.capitalize()} is\", len(result))\n"
     ]
    }
   ],
   "source": [
    "rf = RandomForestClassifier(n_estimators=100, random_state=42)\n",
    "rf.fit(X_train_rfe, y_train)\n",
    "y_pred_rf = rf.predict(X_test_rfe)\n",
    "\n",
    "print(\"\\nClassification Report (Random Forest - Connectivity Features):\")\n",
    "print(classification_report(y_test, y_pred_rf))"
   ]
  },
  {
   "cell_type": "markdown",
   "metadata": {},
   "source": [
    "# **Summary of Findings**\n",
    "1. **Connectivity-based classification** using EEG coherence achieved **low accuracy (~50%)**.\n",
    "2. **SVM showed bias toward \"Control\" class**, predicting ADHD poorly.\n",
    "3. **Random Forest overfitted to \"ADHD\"**, failing to classify Control cases.\n",
    "4. **Potential Improvements**:\n",
    "   - Use **Phase Locking Value (PLV) or graph-based EEG connectivity** features.\n",
    "   - Combine **connectivity with spectral power** and **microstate dynamics**.\n",
    "   - Use **data balancing (SMOTE)** to improve classification.\n",
    "\n",
    "### **Next Steps**\n",
    "- Replace coherence with Phase Locking Value (PLV) for better connectivity analysis.\n",
    "- Apply SMOTE (Synthetic Minority Over-sampling Technique) to balance ADHD and Control classes.\n",
    "- Combine connectivity features with microstate features for improved classification.\n",
    "- Use Grid Search for hyperparameter tuning to enhance SVM and Random Forest performance.\n",
    "- Generates summary charts for classification results."
   ]
  },
  {
   "cell_type": "markdown",
   "metadata": {},
   "source": [
    "### Resume from Step 3: Compute EEG Connectivity Features Using Phase Locking Value (PLV) ###"
   ]
  },
  {
   "cell_type": "code",
   "execution_count": 59,
   "metadata": {},
   "outputs": [],
   "source": [
    "def compute_plv(eeg_data):\n",
    "    \"\"\"Computes Phase Locking Value (PLV) for key EEG channel pairs.\"\"\"\n",
    "    connectivity_features = []\n",
    "    channel_pairs = [(\"Fp1\", \"Fp2\"), (\"C3\", \"C4\"), (\"P3\", \"P4\"), (\"O1\", \"O2\"), (\"F7\", \"F8\")]\n",
    "    \n",
    "    for ch1, ch2 in channel_pairs:\n",
    "        if ch1 in eeg_data and ch2 in eeg_data:\n",
    "            signal1, signal2 = np.angle(hilbert(eeg_data[ch1])), np.angle(hilbert(eeg_data[ch2]))\n",
    "            plv = np.abs(np.mean(np.exp(1j * (signal1 - signal2))))  # Compute PLV\n",
    "            connectivity_features.append(plv)\n",
    "        else:\n",
    "            connectivity_features.append(0)  # Default to 0 if missing data\n",
    "    \n",
    "    return connectivity_features\n",
    "\n",
    "# Compute PLV features\n",
    "features = []\n",
    "for _, row in df_grouped.iterrows():\n",
    "    eeg_data = {ch: np.array([row[ch]]) for ch in eeg_channels}\n",
    "    feature_vector = compute_plv(eeg_data)\n",
    "    features.append(feature_vector)\n",
    "\n",
    "# Convert to NumPy array\n",
    "X = np.array(features)"
   ]
  },
  {
   "cell_type": "markdown",
   "metadata": {},
   "source": [
    "### Step 4: Normalize Features ###"
   ]
  },
  {
   "cell_type": "code",
   "execution_count": 60,
   "metadata": {},
   "outputs": [],
   "source": [
    "X = np.nan_to_num(X, nan=np.nanmean(X, axis=0))  # Replace NaNs with column means\n",
    "scaler = MinMaxScaler()\n",
    "X_scaled = scaler.fit_transform(X)\n",
    "\n"
   ]
  },
  {
   "cell_type": "markdown",
   "metadata": {},
   "source": [
    "### Step 5: Balance Data Using SMOTE ###"
   ]
  },
  {
   "cell_type": "code",
   "execution_count": 61,
   "metadata": {},
   "outputs": [],
   "source": [
    "X_train, X_test, y_train, y_test = train_test_split(X_scaled, df_grouped[\"Class\"], test_size=0.2, random_state=42, stratify=df_grouped[\"Class\"])\n",
    "\n",
    "# Apply SMOTE to balance class distribution\n",
    "smote = SMOTE(random_state=42)\n",
    "X_train_balanced, y_train_balanced = smote.fit_resample(X_train, y_train)"
   ]
  },
  {
   "cell_type": "markdown",
   "metadata": {},
   "source": [
    "### Step 6: Feature Selection Using RFE ###"
   ]
  },
  {
   "cell_type": "code",
   "execution_count": 62,
   "metadata": {},
   "outputs": [],
   "source": [
    "svm = SVC(kernel=\"linear\", C=1)\n",
    "rfe = RFE(svm, n_features_to_select=3)  # Select top 3 connectivity features\n",
    "X_train_rfe = rfe.fit_transform(X_train_balanced, y_train_balanced)\n",
    "X_test_rfe = rfe.transform(X_test)"
   ]
  },
  {
   "cell_type": "markdown",
   "metadata": {},
   "source": [
    "### Step 7: Hyperparameter Tuning Using Grid Search ###"
   ]
  },
  {
   "cell_type": "code",
   "execution_count": 63,
   "metadata": {},
   "outputs": [],
   "source": [
    "param_grid = {\"C\": [0.1, 1, 10], \"kernel\": [\"linear\", \"rbf\"], \"gamma\": [\"scale\", \"auto\"]}\n",
    "grid_search_svm = GridSearchCV(SVC(), param_grid, cv=5, scoring=\"accuracy\", n_jobs=-1)\n",
    "grid_search_svm.fit(X_train_rfe, y_train_balanced)\n",
    "best_svm = grid_search_svm.best_estimator_"
   ]
  },
  {
   "cell_type": "markdown",
   "metadata": {},
   "source": [
    "### Step 8: Train and Evaluate Classifiers ###"
   ]
  },
  {
   "cell_type": "code",
   "execution_count": 65,
   "metadata": {},
   "outputs": [
    {
     "name": "stdout",
     "output_type": "stream",
     "text": [
      "\n",
      "Classification Report (SVM - PLV Features):\n",
      "              precision    recall  f1-score   support\n",
      "\n",
      "        ADHD       0.00      0.00      0.00        13\n",
      "     Control       0.48      1.00      0.65        12\n",
      "\n",
      "    accuracy                           0.48        25\n",
      "   macro avg       0.24      0.50      0.32        25\n",
      "weighted avg       0.23      0.48      0.31        25\n",
      "\n",
      "\n",
      "Classification Report (Random Forest - PLV Features):\n",
      "              precision    recall  f1-score   support\n",
      "\n",
      "        ADHD       0.52      1.00      0.68        13\n",
      "     Control       0.00      0.00      0.00        12\n",
      "\n",
      "    accuracy                           0.52        25\n",
      "   macro avg       0.26      0.50      0.34        25\n",
      "weighted avg       0.27      0.52      0.36        25\n",
      "\n"
     ]
    },
    {
     "name": "stderr",
     "output_type": "stream",
     "text": [
      "/Library/Frameworks/Python.framework/Versions/3.11/lib/python3.11/site-packages/sklearn/metrics/_classification.py:1531: UndefinedMetricWarning: Precision is ill-defined and being set to 0.0 in labels with no predicted samples. Use `zero_division` parameter to control this behavior.\n",
      "  _warn_prf(average, modifier, f\"{metric.capitalize()} is\", len(result))\n",
      "/Library/Frameworks/Python.framework/Versions/3.11/lib/python3.11/site-packages/sklearn/metrics/_classification.py:1531: UndefinedMetricWarning: Precision is ill-defined and being set to 0.0 in labels with no predicted samples. Use `zero_division` parameter to control this behavior.\n",
      "  _warn_prf(average, modifier, f\"{metric.capitalize()} is\", len(result))\n",
      "/Library/Frameworks/Python.framework/Versions/3.11/lib/python3.11/site-packages/sklearn/metrics/_classification.py:1531: UndefinedMetricWarning: Precision is ill-defined and being set to 0.0 in labels with no predicted samples. Use `zero_division` parameter to control this behavior.\n",
      "  _warn_prf(average, modifier, f\"{metric.capitalize()} is\", len(result))\n",
      "/Library/Frameworks/Python.framework/Versions/3.11/lib/python3.11/site-packages/sklearn/metrics/_classification.py:1531: UndefinedMetricWarning: Precision is ill-defined and being set to 0.0 in labels with no predicted samples. Use `zero_division` parameter to control this behavior.\n",
      "  _warn_prf(average, modifier, f\"{metric.capitalize()} is\", len(result))\n",
      "/Library/Frameworks/Python.framework/Versions/3.11/lib/python3.11/site-packages/sklearn/metrics/_classification.py:1531: UndefinedMetricWarning: Precision is ill-defined and being set to 0.0 in labels with no predicted samples. Use `zero_division` parameter to control this behavior.\n",
      "  _warn_prf(average, modifier, f\"{metric.capitalize()} is\", len(result))\n",
      "/Library/Frameworks/Python.framework/Versions/3.11/lib/python3.11/site-packages/sklearn/metrics/_classification.py:1531: UndefinedMetricWarning: Precision is ill-defined and being set to 0.0 in labels with no predicted samples. Use `zero_division` parameter to control this behavior.\n",
      "  _warn_prf(average, modifier, f\"{metric.capitalize()} is\", len(result))\n"
     ]
    }
   ],
   "source": [
    "# SVM\n",
    "best_svm.fit(X_train_rfe, y_train_balanced)\n",
    "y_pred_svm = best_svm.predict(X_test_rfe)\n",
    "print(\"\\nClassification Report (SVM - PLV Features):\")\n",
    "print(classification_report(y_test, y_pred_svm))\n",
    "\n",
    "# Random Forest\n",
    "rf = RandomForestClassifier(n_estimators=100, random_state=42)\n",
    "rf.fit(X_train_rfe, y_train_balanced)\n",
    "y_pred_rf = rf.predict(X_test_rfe)\n",
    "print(\"\\nClassification Report (Random Forest - PLV Features):\")\n",
    "print(classification_report(y_test, y_pred_rf))"
   ]
  },
  {
   "cell_type": "markdown",
   "metadata": {},
   "source": [
    "### Step 9: Compare Model Performance ###\n"
   ]
  },
  {
   "cell_type": "code",
   "execution_count": 66,
   "metadata": {},
   "outputs": [
    {
     "data": {
      "image/png": "[encoded data removed]",
      "text/plain": [
       "<Figure size 600x400 with 1 Axes>"
      ]
     },
     "metadata": {},
     "output_type": "display_data"
    }
   ],
   "source": [
    "results = {\n",
    "    \"SVM\": accuracy_score(y_test, y_pred_svm),\n",
    "    \"Random Forest\": accuracy_score(y_test, y_pred_rf)\n",
    "}\n",
    "\n",
    "plt.figure(figsize=(6, 4))\n",
    "plt.bar(results.keys(), results.values(), color=[\"blue\", \"green\"])\n",
    "plt.xlabel(\"Classifier\")\n",
    "plt.ylabel(\"Accuracy\")\n",
    "plt.title(\"Performance Comparison of Classifiers (EEG PLV Features)\")\n",
    "plt.ylim(0, 1)\n",
    "plt.show()"
   ]
  },
  {
   "cell_type": "markdown",
   "metadata": {},
   "source": [
    "# **Summary of Classification Results (PLV Features)**\n",
    "\n",
    "## **1. Overview**\n",
    "This study aimed to classify ADHD and Control subjects using **EEG connectivity features** derived from **Phase Locking Value (PLV)**. Two machine learning models, **Support Vector Machine (SVM) and Random Forest (RF)**, were evaluated for their classification performance.\n",
    "\n",
    "## **2. Key Findings**\n",
    "### **SVM Results:**\n",
    "- **Accuracy:** 48%\n",
    "- **Control class was predicted correctly 100% of the time** (Recall = 1.00), but **ADHD cases were completely misclassified** (Recall = 0.00).\n",
    "- **High bias towards Control class**, indicating poor feature separability.\n",
    "\n",
    "### **Random Forest Results:**\n",
    "- **Accuracy:** 52%\n",
    "- **ADHD class was predicted correctly 100% of the time**, but **Control cases were entirely misclassified** (Recall = 0.00).\n",
    "- **High bias towards ADHD class**, meaning the model struggles with distinguishing Control cases.\n",
    "\n",
    "## **3. Observations**\n",
    "- **Severe class imbalance in predictions**: Each classifier heavily favors one class, leading to **0% precision and recall for the other**.\n",
    "- **Low precision and f1-score for both models**, indicating that the features may not be strong discriminators for ADHD vs. Control.\n",
    "- **PLV alone is insufficient for accurate classification**, as both models struggle to generalize.\n"
   ]
  },
  {
   "cell_type": "markdown",
   "metadata": {},
   "source": []
  }
 ],
 "metadata": {
  "kernelspec": {
   "display_name": "Python 3",
   "language": "python",
   "name": "python3"
  },
  "language_info": {
   "codemirror_mode": {
    "name": "ipython",
    "version": 3
   },
   "file_extension": ".py",
   "mimetype": "text/x-python",
   "name": "python",
   "nbconvert_exporter": "python",
   "pygments_lexer": "ipython3",
   "version": "3.11.4"
  }
 },
 "nbformat": 4,
 "nbformat_minor": 2
}
